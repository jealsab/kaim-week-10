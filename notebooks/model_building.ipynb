{
  "cells": [
    {
      "cell_type": "markdown",
      "metadata": {
        "id": "YbAX8DqEBd_P"
      },
      "source": [
        "# Modeling"
      ]
    },
    {
      "cell_type": "markdown",
      "metadata": {
        "id": "QjCG-muhBd_T"
      },
      "source": [
        "With the further analysis and feature engineering complete, the next steps involve modeling. We'll develop and evaluate predictive models for forecasting Brent oil prices using the new features. Here’s an outline of the steps for modeling:\n",
        "\n",
        "Train-Test Split: Split the data into training and test sets.\n",
        "Model Selection: Choose appropriate models for time series forecasting (e.g., ARIMA, SARIMA, GARCH).\n",
        "Model Training: Train the selected models on the training data.\n",
        "Model Evaluation: Evaluate the models on the test data using appropriate metrics.\n",
        "Forecasting: Use the best model to make future price predictions.\n",
        "Model Validation: Validate the model's predictions."
      ]
    },
    {
      "cell_type": "markdown",
      "metadata": {
        "id": "qEtsWuXZBd_U"
      },
      "source": [
        "### Load the Processed Data"
      ]
    },
    {
      "cell_type": "code",
      "execution_count": null,
      "metadata": {
        "colab": {
          "base_uri": "https://localhost:8080/",
          "height": 313
        },
        "id": "0DW-3GR5Bd_V",
        "outputId": "9673b448-76de-43d4-e7ab-29a0cc0f2d67"
      },
      "outputs": [
        {
          "data": {
            "application/vnd.google.colaboratory.intrinsic+json": {
              "summary": "{\n  \"name\": \"data_clean\",\n  \"rows\": 8922,\n  \"fields\": [\n    {\n      \"column\": \"Date\",\n      \"properties\": {\n        \"dtype\": \"date\",\n        \"min\": \"1987-09-23 00:00:00\",\n        \"max\": \"2022-11-14 00:00:00\",\n        \"num_unique_values\": 8922,\n        \"samples\": [\n          \"2011-03-01 00:00:00\",\n          \"1997-06-25 00:00:00\",\n          \"1988-11-04 00:00:00\"\n        ],\n        \"semantic_type\": \"\",\n        \"description\": \"\"\n      }\n    },\n    {\n      \"column\": \"Price\",\n      \"properties\": {\n        \"dtype\": \"number\",\n        \"std\": 32.89126114267353,\n        \"min\": 9.1,\n        \"max\": 143.95,\n        \"num_unique_values\": 5015,\n        \"samples\": [\n          98.73,\n          29.64,\n          102.49\n        ],\n        \"semantic_type\": \"\",\n        \"description\": \"\"\n      }\n    },\n    {\n      \"column\": \"Price_MA30\",\n      \"properties\": {\n        \"dtype\": \"number\",\n        \"std\": 32.74385377589928,\n        \"min\": 10.004333333333332,\n        \"max\": 135.60666666666663,\n        \"num_unique_values\": 8725,\n        \"samples\": [\n          20.658,\n          27.52133333333333,\n          91.558\n        ],\n        \"semantic_type\": \"\",\n        \"description\": \"\"\n      }\n    },\n    {\n      \"column\": \"Price_MA90\",\n      \"properties\": {\n        \"dtype\": \"number\",\n        \"std\": 32.38333274151561,\n        \"min\": 10.616333333333332,\n        \"max\": 124.77133333333332,\n        \"num_unique_values\": 8850,\n        \"samples\": [\n          60.06333333333334,\n          21.778666666666663,\n          43.72744444444445\n        ],\n        \"semantic_type\": \"\",\n        \"description\": \"\"\n      }\n    },\n    {\n      \"column\": \"Price_Rolling_STD30\",\n      \"properties\": {\n        \"dtype\": \"number\",\n        \"std\": 1.8346781670542471,\n        \"min\": 0.1597397308411514,\n        \"max\": 15.19659257028063,\n        \"num_unique_values\": 8901,\n        \"samples\": [\n          6.9887974069490255,\n          0.3843503251122332,\n          3.545079234881264\n        ],\n        \"semantic_type\": \"\",\n        \"description\": \"\"\n      }\n    },\n    {\n      \"column\": \"Price_Rolling_STD90\",\n      \"properties\": {\n        \"dtype\": \"number\",\n        \"std\": 3.5826435214495724,\n        \"min\": 0.3363010956946063,\n        \"max\": 25.45759307762352,\n        \"num_unique_values\": 8910,\n        \"samples\": [\n          4.9743011090095095,\n          0.8107347894813631,\n          4.886986520692579\n        ],\n        \"semantic_type\": \"\",\n        \"description\": \"\"\n      }\n    },\n    {\n      \"column\": \"Price_Lag1\",\n      \"properties\": {\n        \"dtype\": \"number\",\n        \"std\": 32.88938604624935,\n        \"min\": 9.1,\n        \"max\": 143.95,\n        \"num_unique_values\": 5014,\n        \"samples\": [\n          98.95,\n          29.64,\n          112.08\n        ],\n        \"semantic_type\": \"\",\n        \"description\": \"\"\n      }\n    },\n    {\n      \"column\": \"Price_Lag7\",\n      \"properties\": {\n        \"dtype\": \"number\",\n        \"std\": 32.87518022755671,\n        \"min\": 9.1,\n        \"max\": 143.95,\n        \"num_unique_values\": 5012,\n        \"samples\": [\n          97.44,\n          29.64,\n          112.92\n        ],\n        \"semantic_type\": \"\",\n        \"description\": \"\"\n      }\n    },\n    {\n      \"column\": \"Price_Lag30\",\n      \"properties\": {\n        \"dtype\": \"number\",\n        \"std\": 32.830774249792704,\n        \"min\": 9.1,\n        \"max\": 143.95,\n        \"num_unique_values\": 4992,\n        \"samples\": [\n          14.67,\n          55.22,\n          112.72\n        ],\n        \"semantic_type\": \"\",\n        \"description\": \"\"\n      }\n    }\n  ]\n}",
              "type": "dataframe",
              "variable_name": "data_clean"
            },
            "text/html": [
              "\n",
              "  <div id=\"df-66c2a994-0a95-4f57-9d5a-cab49da43173\" class=\"colab-df-container\">\n",
              "    <div>\n",
              "<style scoped>\n",
              "    .dataframe tbody tr th:only-of-type {\n",
              "        vertical-align: middle;\n",
              "    }\n",
              "\n",
              "    .dataframe tbody tr th {\n",
              "        vertical-align: top;\n",
              "    }\n",
              "\n",
              "    .dataframe thead th {\n",
              "        text-align: right;\n",
              "    }\n",
              "</style>\n",
              "<table border=\"1\" class=\"dataframe\">\n",
              "  <thead>\n",
              "    <tr style=\"text-align: right;\">\n",
              "      <th></th>\n",
              "      <th>Date</th>\n",
              "      <th>Price</th>\n",
              "      <th>Price_MA30</th>\n",
              "      <th>Price_MA90</th>\n",
              "      <th>Price_Rolling_STD30</th>\n",
              "      <th>Price_Rolling_STD90</th>\n",
              "      <th>Price_Lag1</th>\n",
              "      <th>Price_Lag7</th>\n",
              "      <th>Price_Lag30</th>\n",
              "    </tr>\n",
              "  </thead>\n",
              "  <tbody>\n",
              "    <tr>\n",
              "      <th>0</th>\n",
              "      <td>1987-09-23</td>\n",
              "      <td>18.48</td>\n",
              "      <td>18.312333</td>\n",
              "      <td>18.999556</td>\n",
              "      <td>0.432177</td>\n",
              "      <td>0.766040</td>\n",
              "      <td>18.48</td>\n",
              "      <td>18.15</td>\n",
              "      <td>19.50</td>\n",
              "    </tr>\n",
              "    <tr>\n",
              "      <th>1</th>\n",
              "      <td>1987-09-24</td>\n",
              "      <td>18.68</td>\n",
              "      <td>18.288333</td>\n",
              "      <td>19.000111</td>\n",
              "      <td>0.387361</td>\n",
              "      <td>0.765787</td>\n",
              "      <td>18.48</td>\n",
              "      <td>18.53</td>\n",
              "      <td>19.40</td>\n",
              "    </tr>\n",
              "    <tr>\n",
              "      <th>2</th>\n",
              "      <td>1987-09-25</td>\n",
              "      <td>18.60</td>\n",
              "      <td>18.266667</td>\n",
              "      <td>19.001778</td>\n",
              "      <td>0.347884</td>\n",
              "      <td>0.764739</td>\n",
              "      <td>18.68</td>\n",
              "      <td>18.53</td>\n",
              "      <td>19.25</td>\n",
              "    </tr>\n",
              "    <tr>\n",
              "      <th>3</th>\n",
              "      <td>1987-09-28</td>\n",
              "      <td>18.65</td>\n",
              "      <td>18.260000</td>\n",
              "      <td>19.002889</td>\n",
              "      <td>0.338098</td>\n",
              "      <td>0.764148</td>\n",
              "      <td>18.60</td>\n",
              "      <td>18.43</td>\n",
              "      <td>18.85</td>\n",
              "    </tr>\n",
              "    <tr>\n",
              "      <th>4</th>\n",
              "      <td>1987-09-29</td>\n",
              "      <td>18.50</td>\n",
              "      <td>18.251667</td>\n",
              "      <td>19.001778</td>\n",
              "      <td>0.328550</td>\n",
              "      <td>0.764813</td>\n",
              "      <td>18.65</td>\n",
              "      <td>18.30</td>\n",
              "      <td>18.75</td>\n",
              "    </tr>\n",
              "  </tbody>\n",
              "</table>\n",
              "</div>\n",
              "    <div class=\"colab-df-buttons\">\n",
              "\n",
              "  <div class=\"colab-df-container\">\n",
              "    <button class=\"colab-df-convert\" onclick=\"convertToInteractive('df-66c2a994-0a95-4f57-9d5a-cab49da43173')\"\n",
              "            title=\"Convert this dataframe to an interactive table.\"\n",
              "            style=\"display:none;\">\n",
              "\n",
              "  <svg xmlns=\"http://www.w3.org/2000/svg\" height=\"24px\" viewBox=\"0 -960 960 960\">\n",
              "    <path d=\"M120-120v-720h720v720H120Zm60-500h600v-160H180v160Zm220 220h160v-160H400v160Zm0 220h160v-160H400v160ZM180-400h160v-160H180v160Zm440 0h160v-160H620v160ZM180-180h160v-160H180v160Zm440 0h160v-160H620v160Z\"/>\n",
              "  </svg>\n",
              "    </button>\n",
              "\n",
              "  <style>\n",
              "    .colab-df-container {\n",
              "      display:flex;\n",
              "      gap: 12px;\n",
              "    }\n",
              "\n",
              "    .colab-df-convert {\n",
              "      background-color: #E8F0FE;\n",
              "      border: none;\n",
              "      border-radius: 50%;\n",
              "      cursor: pointer;\n",
              "      display: none;\n",
              "      fill: #1967D2;\n",
              "      height: 32px;\n",
              "      padding: 0 0 0 0;\n",
              "      width: 32px;\n",
              "    }\n",
              "\n",
              "    .colab-df-convert:hover {\n",
              "      background-color: #E2EBFA;\n",
              "      box-shadow: 0px 1px 2px rgba(60, 64, 67, 0.3), 0px 1px 3px 1px rgba(60, 64, 67, 0.15);\n",
              "      fill: #174EA6;\n",
              "    }\n",
              "\n",
              "    .colab-df-buttons div {\n",
              "      margin-bottom: 4px;\n",
              "    }\n",
              "\n",
              "    [theme=dark] .colab-df-convert {\n",
              "      background-color: #3B4455;\n",
              "      fill: #D2E3FC;\n",
              "    }\n",
              "\n",
              "    [theme=dark] .colab-df-convert:hover {\n",
              "      background-color: #434B5C;\n",
              "      box-shadow: 0px 1px 3px 1px rgba(0, 0, 0, 0.15);\n",
              "      filter: drop-shadow(0px 1px 2px rgba(0, 0, 0, 0.3));\n",
              "      fill: #FFFFFF;\n",
              "    }\n",
              "  </style>\n",
              "\n",
              "    <script>\n",
              "      const buttonEl =\n",
              "        document.querySelector('#df-66c2a994-0a95-4f57-9d5a-cab49da43173 button.colab-df-convert');\n",
              "      buttonEl.style.display =\n",
              "        google.colab.kernel.accessAllowed ? 'block' : 'none';\n",
              "\n",
              "      async function convertToInteractive(key) {\n",
              "        const element = document.querySelector('#df-66c2a994-0a95-4f57-9d5a-cab49da43173');\n",
              "        const dataTable =\n",
              "          await google.colab.kernel.invokeFunction('convertToInteractive',\n",
              "                                                    [key], {});\n",
              "        if (!dataTable) return;\n",
              "\n",
              "        const docLinkHtml = 'Like what you see? Visit the ' +\n",
              "          '<a target=\"_blank\" href=https://colab.research.google.com/notebooks/data_table.ipynb>data table notebook</a>'\n",
              "          + ' to learn more about interactive tables.';\n",
              "        element.innerHTML = '';\n",
              "        dataTable['output_type'] = 'display_data';\n",
              "        await google.colab.output.renderOutput(dataTable, element);\n",
              "        const docLink = document.createElement('div');\n",
              "        docLink.innerHTML = docLinkHtml;\n",
              "        element.appendChild(docLink);\n",
              "      }\n",
              "    </script>\n",
              "  </div>\n",
              "\n",
              "\n",
              "<div id=\"df-f0217e21-ed8c-4bab-8139-d62b6620f165\">\n",
              "  <button class=\"colab-df-quickchart\" onclick=\"quickchart('df-f0217e21-ed8c-4bab-8139-d62b6620f165')\"\n",
              "            title=\"Suggest charts\"\n",
              "            style=\"display:none;\">\n",
              "\n",
              "<svg xmlns=\"http://www.w3.org/2000/svg\" height=\"24px\"viewBox=\"0 0 24 24\"\n",
              "     width=\"24px\">\n",
              "    <g>\n",
              "        <path d=\"M19 3H5c-1.1 0-2 .9-2 2v14c0 1.1.9 2 2 2h14c1.1 0 2-.9 2-2V5c0-1.1-.9-2-2-2zM9 17H7v-7h2v7zm4 0h-2V7h2v10zm4 0h-2v-4h2v4z\"/>\n",
              "    </g>\n",
              "</svg>\n",
              "  </button>\n",
              "\n",
              "<style>\n",
              "  .colab-df-quickchart {\n",
              "      --bg-color: #E8F0FE;\n",
              "      --fill-color: #1967D2;\n",
              "      --hover-bg-color: #E2EBFA;\n",
              "      --hover-fill-color: #174EA6;\n",
              "      --disabled-fill-color: #AAA;\n",
              "      --disabled-bg-color: #DDD;\n",
              "  }\n",
              "\n",
              "  [theme=dark] .colab-df-quickchart {\n",
              "      --bg-color: #3B4455;\n",
              "      --fill-color: #D2E3FC;\n",
              "      --hover-bg-color: #434B5C;\n",
              "      --hover-fill-color: #FFFFFF;\n",
              "      --disabled-bg-color: #3B4455;\n",
              "      --disabled-fill-color: #666;\n",
              "  }\n",
              "\n",
              "  .colab-df-quickchart {\n",
              "    background-color: var(--bg-color);\n",
              "    border: none;\n",
              "    border-radius: 50%;\n",
              "    cursor: pointer;\n",
              "    display: none;\n",
              "    fill: var(--fill-color);\n",
              "    height: 32px;\n",
              "    padding: 0;\n",
              "    width: 32px;\n",
              "  }\n",
              "\n",
              "  .colab-df-quickchart:hover {\n",
              "    background-color: var(--hover-bg-color);\n",
              "    box-shadow: 0 1px 2px rgba(60, 64, 67, 0.3), 0 1px 3px 1px rgba(60, 64, 67, 0.15);\n",
              "    fill: var(--button-hover-fill-color);\n",
              "  }\n",
              "\n",
              "  .colab-df-quickchart-complete:disabled,\n",
              "  .colab-df-quickchart-complete:disabled:hover {\n",
              "    background-color: var(--disabled-bg-color);\n",
              "    fill: var(--disabled-fill-color);\n",
              "    box-shadow: none;\n",
              "  }\n",
              "\n",
              "  .colab-df-spinner {\n",
              "    border: 2px solid var(--fill-color);\n",
              "    border-color: transparent;\n",
              "    border-bottom-color: var(--fill-color);\n",
              "    animation:\n",
              "      spin 1s steps(1) infinite;\n",
              "  }\n",
              "\n",
              "  @keyframes spin {\n",
              "    0% {\n",
              "      border-color: transparent;\n",
              "      border-bottom-color: var(--fill-color);\n",
              "      border-left-color: var(--fill-color);\n",
              "    }\n",
              "    20% {\n",
              "      border-color: transparent;\n",
              "      border-left-color: var(--fill-color);\n",
              "      border-top-color: var(--fill-color);\n",
              "    }\n",
              "    30% {\n",
              "      border-color: transparent;\n",
              "      border-left-color: var(--fill-color);\n",
              "      border-top-color: var(--fill-color);\n",
              "      border-right-color: var(--fill-color);\n",
              "    }\n",
              "    40% {\n",
              "      border-color: transparent;\n",
              "      border-right-color: var(--fill-color);\n",
              "      border-top-color: var(--fill-color);\n",
              "    }\n",
              "    60% {\n",
              "      border-color: transparent;\n",
              "      border-right-color: var(--fill-color);\n",
              "    }\n",
              "    80% {\n",
              "      border-color: transparent;\n",
              "      border-right-color: var(--fill-color);\n",
              "      border-bottom-color: var(--fill-color);\n",
              "    }\n",
              "    90% {\n",
              "      border-color: transparent;\n",
              "      border-bottom-color: var(--fill-color);\n",
              "    }\n",
              "  }\n",
              "</style>\n",
              "\n",
              "  <script>\n",
              "    async function quickchart(key) {\n",
              "      const quickchartButtonEl =\n",
              "        document.querySelector('#' + key + ' button');\n",
              "      quickchartButtonEl.disabled = true;  // To prevent multiple clicks.\n",
              "      quickchartButtonEl.classList.add('colab-df-spinner');\n",
              "      try {\n",
              "        const charts = await google.colab.kernel.invokeFunction(\n",
              "            'suggestCharts', [key], {});\n",
              "      } catch (error) {\n",
              "        console.error('Error during call to suggestCharts:', error);\n",
              "      }\n",
              "      quickchartButtonEl.classList.remove('colab-df-spinner');\n",
              "      quickchartButtonEl.classList.add('colab-df-quickchart-complete');\n",
              "    }\n",
              "    (() => {\n",
              "      let quickchartButtonEl =\n",
              "        document.querySelector('#df-f0217e21-ed8c-4bab-8139-d62b6620f165 button');\n",
              "      quickchartButtonEl.style.display =\n",
              "        google.colab.kernel.accessAllowed ? 'block' : 'none';\n",
              "    })();\n",
              "  </script>\n",
              "</div>\n",
              "\n",
              "    </div>\n",
              "  </div>\n"
            ],
            "text/plain": [
              "        Date  Price  Price_MA30  Price_MA90  Price_Rolling_STD30  \\\n",
              "0 1987-09-23  18.48   18.312333   18.999556             0.432177   \n",
              "1 1987-09-24  18.68   18.288333   19.000111             0.387361   \n",
              "2 1987-09-25  18.60   18.266667   19.001778             0.347884   \n",
              "3 1987-09-28  18.65   18.260000   19.002889             0.338098   \n",
              "4 1987-09-29  18.50   18.251667   19.001778             0.328550   \n",
              "\n",
              "   Price_Rolling_STD90  Price_Lag1  Price_Lag7  Price_Lag30  \n",
              "0             0.766040       18.48       18.15        19.50  \n",
              "1             0.765787       18.48       18.53        19.40  \n",
              "2             0.764739       18.68       18.53        19.25  \n",
              "3             0.764148       18.60       18.43        18.85  \n",
              "4             0.764813       18.65       18.30        18.75  "
            ]
          },
          "execution_count": 1,
          "metadata": {},
          "output_type": "execute_result"
        }
      ],
      "source": [
        "# Load the cleaned data with features from the CSV file\n",
        "import pandas as pd\n",
        "\n",
        "# File path to the processed data\n",
        "csv_file_path = 'cleaned_data_with_features.csv'\n",
        "\n",
        "# Load the data into a DataFrame\n",
        "data_clean = pd.read_csv(csv_file_path)\n",
        "\n",
        "# Convert 'Date' column to datetime\n",
        "data_clean['Date'] = pd.to_datetime(data_clean['Date'])\n",
        "\n",
        "# Display the first few rows of the dataframe\n",
        "data_clean.head()"
      ]
    },
    {
      "cell_type": "markdown",
      "metadata": {
        "id": "1fqq1nebBd_X"
      },
      "source": [
        "## Train-Test Split\n",
        "We'll split the data into training and test sets to evaluate the model performance on unseen data."
      ]
    },
    {
      "cell_type": "code",
      "execution_count": 2,
      "metadata": {
        "colab": {
          "base_uri": "https://localhost:8080/"
        },
        "id": "8zUxlKOeBd_Y",
        "outputId": "499bdd88-2b15-495d-879e-a36eed1ceb55"
      },
      "outputs": [
        {
          "name": "stdout",
          "output_type": "stream",
          "text": [
            "Training set shape: (7137, 7)\n",
            "Test set shape: (1785, 7)\n"
          ]
        }
      ],
      "source": [
        "from sklearn.model_selection import train_test_split\n",
        "\n",
        "# Features and target variable\n",
        "features = data_clean[['Price_MA30', 'Price_MA90', 'Price_Rolling_STD30', 'Price_Rolling_STD90', 'Price_Lag1', 'Price_Lag7', 'Price_Lag30']]\n",
        "target = data_clean['Price']\n",
        "\n",
        "# Split the data into training and test sets\n",
        "X_train, X_test, y_train, y_test = train_test_split(features, target, test_size=0.2, shuffle=False)\n",
        "\n",
        "print(\"Training set shape:\", X_train.shape)\n",
        "print(\"Test set shape:\", X_test.shape)"
      ]
    },
    {
      "cell_type": "markdown",
      "metadata": {
        "id": "-JMRqt1BBd_Y"
      },
      "source": [
        "### Model Selection and Training\n",
        "We'll start with the ARIMA model for time series forecasting."
      ]
    },
    {
      "cell_type": "code",
      "execution_count": 3,
      "metadata": {
        "colab": {
          "base_uri": "https://localhost:8080/"
        },
        "id": "zbY6bwJkBd_Z",
        "outputId": "662c9872-b996-4028-f940-718529f8526f"
      },
      "outputs": [
        {
          "name": "stdout",
          "output_type": "stream",
          "text": [
            "                               SARIMAX Results                                \n",
            "==============================================================================\n",
            "Dep. Variable:                  Price   No. Observations:                 7137\n",
            "Model:                 ARIMA(5, 1, 0)   Log Likelihood              -10580.967\n",
            "Date:                Fri, 21 Feb 2025   AIC                          21173.934\n",
            "Time:                        10:23:16   BIC                          21215.172\n",
            "Sample:                             0   HQIC                         21188.130\n",
            "                               - 7137                                         \n",
            "Covariance Type:                  opg                                         \n",
            "==============================================================================\n",
            "                 coef    std err          z      P>|z|      [0.025      0.975]\n",
            "------------------------------------------------------------------------------\n",
            "ar.L1          0.0367      0.008      4.831      0.000       0.022       0.052\n",
            "ar.L2         -0.0076      0.007     -1.095      0.273      -0.021       0.006\n",
            "ar.L3         -0.0111      0.007     -1.675      0.094      -0.024       0.002\n",
            "ar.L4          0.0058      0.007      0.787      0.431      -0.009       0.020\n",
            "ar.L5          0.0151      0.007      2.218      0.027       0.002       0.028\n",
            "sigma2         1.1361      0.008    141.189      0.000       1.120       1.152\n",
            "===================================================================================\n",
            "Ljung-Box (L1) (Q):                   0.00   Jarque-Bera (JB):             27053.21\n",
            "Prob(Q):                              0.98   Prob(JB):                         0.00\n",
            "Heteroskedasticity (H):               9.94   Skew:                            -0.26\n",
            "Prob(H) (two-sided):                  0.00   Kurtosis:                        12.52\n",
            "===================================================================================\n",
            "\n",
            "Warnings:\n",
            "[1] Covariance matrix calculated using the outer product of gradients (complex-step).\n"
          ]
        }
      ],
      "source": [
        "from statsmodels.tsa.arima.model import ARIMA\n",
        "\n",
        "# Train ARIMA model\n",
        "model = ARIMA(y_train, order=(5, 1, 0))  # (p, d, q) order\n",
        "arima_model = model.fit()\n",
        "\n",
        "print(arima_model.summary())"
      ]
    },
    {
      "cell_type": "markdown",
      "metadata": {
        "id": "D8J_XM3_Bd_Z"
      },
      "source": [
        "### Model Evaluation\n",
        "Evaluate the ARIMA model on the test data."
      ]
    },
    {
      "cell_type": "code",
      "execution_count": 4,
      "metadata": {
        "colab": {
          "base_uri": "https://localhost:8080/",
          "height": 372
        },
        "id": "s7WN7a9oBd_a",
        "outputId": "36eae686-3375-4e11-afff-2d0e1cc0f306"
      },
      "outputs": [
        {
          "name": "stdout",
          "output_type": "stream",
          "text": [
            "Mean Squared Error: 754.4196108447563\n"
          ]
        },
        {
          "data": {
            "image/png": "[encoded data removed]",
            "text/plain": [
              "<Figure size 1400x700 with 1 Axes>"
            ]
          },
          "metadata": {},
          "output_type": "display_data"
        }
      ],
      "source": [
        "from sklearn.metrics import mean_squared_error\n",
        "import matplotlib.pyplot as plt\n",
        "\n",
        "# Forecast using ARIMA model\n",
        "y_pred = arima_model.forecast(steps=len(y_test))\n",
        "\n",
        "# Calculate Mean Squared Error\n",
        "mse = mean_squared_error(y_test, y_pred)\n",
        "print(f\"Mean Squared Error: {mse}\")\n",
        "\n",
        "# Plot the predictions vs actual values\n",
        "plt.figure(figsize=(14, 7))\n",
        "plt.plot(data_clean['Date'][-len(y_test):], y_test, label='Actual')\n",
        "plt.plot(data_clean['Date'][-len(y_test):], y_pred, label='Predicted', color='red')\n",
        "plt.title('ARIMA Model - Actual vs Predicted Prices')\n",
        "plt.xlabel('Date')\n",
        "plt.ylabel('Price')\n",
        "plt.legend()\n",
        "plt.show()"
      ]
    }
  ],
  "metadata": {
    "colab": {
      "provenance": []
    },
    "kernelspec": {
      "display_name": ".venv",
      "language": "python",
      "name": "python3"
    },
    "language_info": {
      "codemirror_mode": {
        "name": "ipython",
        "version": 3
      },
      "file_extension": ".py",
      "mimetype": "text/x-python",
      "name": "python",
      "nbconvert_exporter": "python",
      "pygments_lexer": "ipython3",
      "version": "3.12.2"
    }
  },
  "nbformat": 4,
  "nbformat_minor": 0
}
